{
 "cells": [
  {
   "cell_type": "code",
   "execution_count": 1,
   "metadata": {},
   "outputs": [
    {
     "name": "stdout",
     "output_type": "stream",
     "text": [
      "^C\n",
      "Requirement already satisfied: gym in c:\\users\\chinn\\anaconda3\\envs\\tensorflow1\\lib\\site-packages (0.20.0)\n",
      "Requirement already satisfied: cloudpickle>=1.2.0 in c:\\users\\chinn\\anaconda3\\envs\\tensorflow1\\lib\\site-packages (from gym) (2.0.0)\n",
      "Requirement already satisfied: numpy>=1.18.0 in c:\\users\\chinn\\anaconda3\\envs\\tensorflow1\\lib\\site-packages (from gym) (1.18.2)\n",
      "Requirement already satisfied: keras in c:\\users\\chinn\\anaconda3\\envs\\tensorflow1\\lib\\site-packages (2.7.0)\n",
      "Requirement already satisfied: keras-rl2 in c:\\users\\chinn\\anaconda3\\envs\\tensorflow1\\lib\\site-packages (1.0.5)\n",
      "Requirement already satisfied: tensorflow in c:\\users\\chinn\\anaconda3\\envs\\tensorflow1\\lib\\site-packages (from keras-rl2) (2.7.0)\n",
      "Requirement already satisfied: wheel<1.0,>=0.32.0 in c:\\users\\chinn\\anaconda3\\envs\\tensorflow1\\lib\\site-packages (from tensorflow->keras-rl2) (0.34.2)\n",
      "Requirement already satisfied: six>=1.12.0 in c:\\users\\chinn\\anaconda3\\envs\\tensorflow1\\lib\\site-packages (from tensorflow->keras-rl2) (1.14.0)\n",
      "Requirement already satisfied: gast<0.5.0,>=0.2.1 in c:\\users\\chinn\\anaconda3\\envs\\tensorflow1\\lib\\site-packages (from tensorflow->keras-rl2) (0.2.2)\n",
      "Requirement already satisfied: tensorflow-io-gcs-filesystem>=0.21.0 in c:\\users\\chinn\\anaconda3\\envs\\tensorflow1\\lib\\site-packages (from tensorflow->keras-rl2) (0.22.0)\n",
      "Requirement already satisfied: wrapt>=1.11.0 in c:\\users\\chinn\\anaconda3\\envs\\tensorflow1\\lib\\site-packages (from tensorflow->keras-rl2) (1.12.1)\n",
      "Requirement already satisfied: tensorboard~=2.6 in c:\\users\\chinn\\anaconda3\\envs\\tensorflow1\\lib\\site-packages (from tensorflow->keras-rl2) (2.7.0)\n",
      "Requirement already satisfied: google-pasta>=0.1.1 in c:\\users\\chinn\\anaconda3\\envs\\tensorflow1\\lib\\site-packages (from tensorflow->keras-rl2) (0.2.0)\n",
      "Requirement already satisfied: flatbuffers<3.0,>=1.12 in c:\\users\\chinn\\anaconda3\\envs\\tensorflow1\\lib\\site-packages (from tensorflow->keras-rl2) (2.0)\n",
      "Requirement already satisfied: numpy>=1.14.5 in c:\\users\\chinn\\anaconda3\\envs\\tensorflow1\\lib\\site-packages (from tensorflow->keras-rl2) (1.18.2)\n",
      "Requirement already satisfied: tensorflow-estimator<2.8,~=2.7.0rc0 in c:\\users\\chinn\\anaconda3\\envs\\tensorflow1\\lib\\site-packages (from tensorflow->keras-rl2) (2.7.0)\n",
      "Requirement already satisfied: h5py>=2.9.0 in c:\\users\\chinn\\anaconda3\\envs\\tensorflow1\\lib\\site-packages (from tensorflow->keras-rl2) (2.10.0)\n",
      "Requirement already satisfied: opt-einsum>=2.3.2 in c:\\users\\chinn\\anaconda3\\envs\\tensorflow1\\lib\\site-packages (from tensorflow->keras-rl2) (3.2.0)\n",
      "Requirement already satisfied: absl-py>=0.4.0 in c:\\users\\chinn\\anaconda3\\envs\\tensorflow1\\lib\\site-packages (from tensorflow->keras-rl2) (0.9.0)\n",
      "Requirement already satisfied: termcolor>=1.1.0 in c:\\users\\chinn\\appdata\\roaming\\python\\python37\\site-packages (from tensorflow->keras-rl2) (1.1.0)\n",
      "Requirement already satisfied: typing-extensions>=3.6.6 in c:\\users\\chinn\\anaconda3\\envs\\tensorflow1\\lib\\site-packages (from tensorflow->keras-rl2) (3.10.0.2)\n",
      "Requirement already satisfied: protobuf>=3.9.2 in c:\\users\\chinn\\anaconda3\\envs\\tensorflow1\\lib\\site-packages (from tensorflow->keras-rl2) (3.11.4)\n",
      "Requirement already satisfied: astunparse>=1.6.0 in c:\\users\\chinn\\anaconda3\\envs\\tensorflow1\\lib\\site-packages (from tensorflow->keras-rl2) (1.6.3)\n",
      "Requirement already satisfied: keras<2.8,>=2.7.0rc0 in c:\\users\\chinn\\anaconda3\\envs\\tensorflow1\\lib\\site-packages (from tensorflow->keras-rl2) (2.7.0)\n",
      "Requirement already satisfied: libclang>=9.0.1 in c:\\users\\chinn\\anaconda3\\envs\\tensorflow1\\lib\\site-packages (from tensorflow->keras-rl2) (12.0.0)\n",
      "Requirement already satisfied: grpcio<2.0,>=1.24.3 in c:\\users\\chinn\\anaconda3\\envs\\tensorflow1\\lib\\site-packages (from tensorflow->keras-rl2) (1.27.2)\n",
      "Requirement already satisfied: keras-preprocessing>=1.1.1 in c:\\users\\chinn\\anaconda3\\envs\\tensorflow1\\lib\\site-packages (from tensorflow->keras-rl2) (1.1.2)\n",
      "Requirement already satisfied: markdown>=2.6.8 in c:\\users\\chinn\\anaconda3\\envs\\tensorflow1\\lib\\site-packages (from tensorboard~=2.6->tensorflow->keras-rl2) (3.2.1)\n",
      "Requirement already satisfied: tensorboard-data-server<0.7.0,>=0.6.0 in c:\\users\\chinn\\anaconda3\\envs\\tensorflow1\\lib\\site-packages (from tensorboard~=2.6->tensorflow->keras-rl2) (0.6.1)\n",
      "Requirement already satisfied: tensorboard-plugin-wit>=1.6.0 in c:\\users\\chinn\\anaconda3\\envs\\tensorflow1\\lib\\site-packages (from tensorboard~=2.6->tensorflow->keras-rl2) (1.8.0)\n",
      "Requirement already satisfied: werkzeug>=0.11.15 in c:\\users\\chinn\\anaconda3\\envs\\tensorflow1\\lib\\site-packages (from tensorboard~=2.6->tensorflow->keras-rl2) (1.0.0)\n",
      "Requirement already satisfied: google-auth<3,>=1.6.3 in c:\\users\\chinn\\anaconda3\\envs\\tensorflow1\\lib\\site-packages (from tensorboard~=2.6->tensorflow->keras-rl2) (1.11.3)\n",
      "Requirement already satisfied: google-auth-oauthlib<0.5,>=0.4.1 in c:\\users\\chinn\\anaconda3\\envs\\tensorflow1\\lib\\site-packages (from tensorboard~=2.6->tensorflow->keras-rl2) (0.4.1)\n",
      "Requirement already satisfied: setuptools>=41.0.0 in c:\\users\\chinn\\anaconda3\\envs\\tensorflow1\\lib\\site-packages (from tensorboard~=2.6->tensorflow->keras-rl2) (46.1.1)\n",
      "Requirement already satisfied: requests<3,>=2.21.0 in c:\\users\\chinn\\appdata\\roaming\\python\\python37\\site-packages (from tensorboard~=2.6->tensorflow->keras-rl2) (2.25.1)\n",
      "Requirement already satisfied: rsa<4.1,>=3.1.4 in c:\\users\\chinn\\anaconda3\\envs\\tensorflow1\\lib\\site-packages (from google-auth<3,>=1.6.3->tensorboard~=2.6->tensorflow->keras-rl2) (4.0)\n",
      "Requirement already satisfied: pyasn1-modules>=0.2.1 in c:\\users\\chinn\\anaconda3\\envs\\tensorflow1\\lib\\site-packages (from google-auth<3,>=1.6.3->tensorboard~=2.6->tensorflow->keras-rl2) (0.2.8)\n",
      "Requirement already satisfied: cachetools<5.0,>=2.0.0 in c:\\users\\chinn\\anaconda3\\envs\\tensorflow1\\lib\\site-packages (from google-auth<3,>=1.6.3->tensorboard~=2.6->tensorflow->keras-rl2) (4.0.0)\n",
      "Requirement already satisfied: requests-oauthlib>=0.7.0 in c:\\users\\chinn\\anaconda3\\envs\\tensorflow1\\lib\\site-packages (from google-auth-oauthlib<0.5,>=0.4.1->tensorboard~=2.6->tensorflow->keras-rl2) (1.3.0)\n",
      "Requirement already satisfied: urllib3<1.27,>=1.21.1 in c:\\users\\chinn\\appdata\\roaming\\python\\python37\\site-packages (from requests<3,>=2.21.0->tensorboard~=2.6->tensorflow->keras-rl2) (1.25.11)\n",
      "Requirement already satisfied: idna<3,>=2.5 in c:\\users\\chinn\\appdata\\roaming\\python\\python37\\site-packages (from requests<3,>=2.21.0->tensorboard~=2.6->tensorflow->keras-rl2) (2.10)\n",
      "Requirement already satisfied: chardet<5,>=3.0.2 in c:\\users\\chinn\\appdata\\roaming\\python\\python37\\site-packages (from requests<3,>=2.21.0->tensorboard~=2.6->tensorflow->keras-rl2) (4.0.0)\n",
      "Requirement already satisfied: certifi>=2017.4.17 in c:\\users\\chinn\\appdata\\roaming\\python\\python37\\site-packages (from requests<3,>=2.21.0->tensorboard~=2.6->tensorflow->keras-rl2) (2020.12.5)\n",
      "Requirement already satisfied: pyasn1>=0.1.3 in c:\\users\\chinn\\anaconda3\\envs\\tensorflow1\\lib\\site-packages (from rsa<4.1,>=3.1.4->google-auth<3,>=1.6.3->tensorboard~=2.6->tensorflow->keras-rl2) (0.4.8)\n",
      "Requirement already satisfied: oauthlib>=3.0.0 in c:\\users\\chinn\\anaconda3\\envs\\tensorflow1\\lib\\site-packages (from requests-oauthlib>=0.7.0->google-auth-oauthlib<0.5,>=0.4.1->tensorboard~=2.6->tensorflow->keras-rl2) (3.1.0)\n"
     ]
    }
   ],
   "source": [
    "!pip install tensorflow==2.3.0\n",
    "!pip install gym\n",
    "!pip install keras\n",
    "!pip install keras-rl2"
   ]
  },
  {
   "cell_type": "code",
   "execution_count": 2,
   "metadata": {},
   "outputs": [],
   "source": [
    "from gym import Env\n",
    "from gym.spaces import Discrete, Box\n",
    "import numpy as np\n",
    "import random"
   ]
  },
  {
   "cell_type": "code",
   "execution_count": 3,
   "metadata": {},
   "outputs": [],
   "source": [
    "class ShowerEnv(Env):\n",
    "    def __init__(self):\n",
    "        # Actions we can take, down, stay, up\n",
    "        \n",
    "        # Temperature array\n",
    "        self.observation_space = Box(low=np.array([-7]), high=np.array([20]))\n",
    "        # Set start temp\n",
    "        \n",
    "        # Set shower length\n",
    "        self.z1=0\n",
    "        self.z2=0\n",
    "        self.ground_length = 11\n",
    "        self.pointer1=2\n",
    "        self.pointer2=0\n",
    "        self.lidarPointer=3\n",
    "        self.ground=[0,0,0,0,1,3,5,3,1,0,0,0,0,0,0,0]\n",
    "        self.lidar=self.ground[self.lidarPointer]\n",
    "        self.state = 0\n",
    "        self.action_space = Discrete(3)\n",
    "        \n",
    "    def step(self, action):\n",
    "        # Apply action\n",
    "        # 0 -1 = -1 temperature\n",
    "        # 1 -1 = 0 \n",
    "        # 2 -1 = 1 temperature \n",
    "        if action==0:\n",
    "            if(self.z1<=7 and self.z1>=-7 and self.z2<=7 and self.z2>=-7):\n",
    "                self.z1-=0.2\n",
    "                self.z2+=0.2\n",
    "        if action==1:\n",
    "            self.z1-=0\n",
    "            self.z2+=0\n",
    "        if action==2:\n",
    "            if(self.z1<=7 and self.z1>=-7 and self.z2<=7 and self.z2>=-7):\n",
    "                self.z1+=0.2\n",
    "                self.z2-=0.2\n",
    "\n",
    "     \n",
    "        #print(self.state)\n",
    "        self.state += (self.z1 +self.ground[self.pointer1]) - (self.z2 +self.ground[self.pointer2])\n",
    "        # Reduce shower length by 1 second\n",
    "        self.ground_length -= 1 \n",
    "        self.pointer1+=1\n",
    "        self.pointer2+=1\n",
    "        self.lidarPointer+=1\n",
    "        self.lidar=self.ground[self.lidarPointer]\n",
    "        #self.state[1] = self.lidar\n",
    "        \n",
    "        # Calculate reward\n",
    "        if self.state >=-3 and self.state <=3: \n",
    "            reward =0.1 \n",
    "        else: \n",
    "            reward = -0.1 \n",
    "        \n",
    "        # Check if shower is done\n",
    "        if self.ground_length <= 0: \n",
    "            done = True\n",
    "        else:\n",
    "            done = False\n",
    "        \n",
    "        # Apply temperature noise\n",
    "        #self.state += random.randint(-1,1)\n",
    "        # Set placeholder for info\n",
    "        info = {}\n",
    "        \n",
    "        # Return step information\n",
    "        return self.state, reward, done, info\n",
    "\n",
    "    def render(self):\n",
    "        #print(self.state,self.z1,self.z2,self.ground[self.pointer1],self.ground[self.pointer2])\n",
    "        # Implement viz\n",
    "        pass\n",
    "    \n",
    "    def reset(self):\n",
    "        # Reset shower temperature\n",
    "        \n",
    "        # Set shower length\n",
    "        self.z1=0\n",
    "        self.z2=0\n",
    "        self.ground_length = 11\n",
    "        self.pointer1=2\n",
    "        self.pointer2=0\n",
    "        self.lidarPointer=3\n",
    "        self.lidar=self.ground[self.lidarPointer]\n",
    "        self.state = 0\n",
    "        return self.state"
   ]
  },
  {
   "cell_type": "code",
   "execution_count": 4,
   "metadata": {},
   "outputs": [],
   "source": [
    "env = ShowerEnv()"
   ]
  },
  {
   "cell_type": "code",
   "execution_count": 5,
   "metadata": {},
   "outputs": [
    {
     "data": {
      "text/plain": [
       "0"
      ]
     },
     "execution_count": 5,
     "metadata": {},
     "output_type": "execute_result"
    }
   ],
   "source": [
    "env.action_space.sample()"
   ]
  },
  {
   "cell_type": "code",
   "execution_count": 6,
   "metadata": {},
   "outputs": [
    {
     "name": "stdout",
     "output_type": "stream",
     "text": [
      "Episode:1 Score:-0.09999999999999998\n",
      "Episode:2 Score:0.30000000000000004\n",
      "Episode:3 Score:-0.5\n",
      "Episode:4 Score:-0.5\n",
      "Episode:5 Score:-0.5\n",
      "Episode:6 Score:0.5\n",
      "Episode:7 Score:-0.09999999999999998\n",
      "Episode:8 Score:-0.09999999999999998\n",
      "Episode:9 Score:-0.5\n",
      "Episode:10 Score:-0.5\n"
     ]
    }
   ],
   "source": [
    "episodes = 10\n",
    "for episode in range(1, episodes+1):\n",
    "    state = env.reset()\n",
    "    done = False\n",
    "    score = 0 \n",
    "    \n",
    "    while not done:\n",
    "        #env.render()\n",
    "        action = env.action_space.sample()\n",
    "        n_state, reward, done, info = env.step(action)\n",
    "        env.render()\n",
    "        score+=reward\n",
    "    print('Episode:{} Score:{}'.format(episode, score))"
   ]
  },
  {
   "cell_type": "code",
   "execution_count": 7,
   "metadata": {},
   "outputs": [
    {
     "name": "stderr",
     "output_type": "stream",
     "text": [
      "ERROR: tensorflow-gpu 1.15.0 has requirement gast==0.2.2, but you'll have gast 0.3.3 which is incompatible.\n",
      "ERROR: tensorflow-gpu 1.15.0 has requirement tensorboard<1.16.0,>=1.15.0, but you'll have tensorboard 2.7.0 which is incompatible.\n",
      "ERROR: tensorflow-gpu 1.15.0 has requirement tensorflow-estimator==1.15.1, but you'll have tensorflow-estimator 2.3.0 which is incompatible.\n",
      "ERROR: Could not install packages due to an EnvironmentError: [WinError 5] Access is denied: 'c:\\\\users\\\\chinn\\\\anaconda3\\\\envs\\\\tensorflow1\\\\lib\\\\site-packages\\\\tensorflow\\\\lite\\\\experimental\\\\microfrontend\\\\python\\\\ops\\\\_audio_microfrontend_op.so'\n",
      "Consider using the `--user` option or check the permissions.\n",
      "\n"
     ]
    },
    {
     "name": "stdout",
     "output_type": "stream",
     "text": [
      "Collecting tensorflow==2.3.0\n",
      "  Downloading tensorflow-2.3.0-cp37-cp37m-win_amd64.whl (342.5 MB)\n",
      "Requirement already satisfied: six>=1.12.0 in c:\\users\\chinn\\anaconda3\\envs\\tensorflow1\\lib\\site-packages (from tensorflow==2.3.0) (1.14.0)\n",
      "Requirement already satisfied: opt-einsum>=2.3.2 in c:\\users\\chinn\\anaconda3\\envs\\tensorflow1\\lib\\site-packages (from tensorflow==2.3.0) (3.2.0)\n",
      "Requirement already satisfied: astunparse==1.6.3 in c:\\users\\chinn\\anaconda3\\envs\\tensorflow1\\lib\\site-packages (from tensorflow==2.3.0) (1.6.3)\n",
      "Collecting gast==0.3.3\n",
      "  Downloading gast-0.3.3-py2.py3-none-any.whl (9.7 kB)\n",
      "Requirement already satisfied: absl-py>=0.7.0 in c:\\users\\chinn\\anaconda3\\envs\\tensorflow1\\lib\\site-packages (from tensorflow==2.3.0) (0.9.0)\n",
      "Requirement already satisfied: termcolor>=1.1.0 in c:\\users\\chinn\\appdata\\roaming\\python\\python37\\site-packages (from tensorflow==2.3.0) (1.1.0)\n",
      "Requirement already satisfied: wheel>=0.26 in c:\\users\\chinn\\anaconda3\\envs\\tensorflow1\\lib\\site-packages (from tensorflow==2.3.0) (0.34.2)\n",
      "Requirement already satisfied: scipy==1.4.1 in c:\\users\\chinn\\anaconda3\\envs\\tensorflow1\\lib\\site-packages (from tensorflow==2.3.0) (1.4.1)\n",
      "Collecting tensorflow-estimator<2.4.0,>=2.3.0\n",
      "  Downloading tensorflow_estimator-2.3.0-py2.py3-none-any.whl (459 kB)\n",
      "Requirement already satisfied: h5py<2.11.0,>=2.10.0 in c:\\users\\chinn\\anaconda3\\envs\\tensorflow1\\lib\\site-packages (from tensorflow==2.3.0) (2.10.0)\n",
      "Requirement already satisfied: grpcio>=1.8.6 in c:\\users\\chinn\\anaconda3\\envs\\tensorflow1\\lib\\site-packages (from tensorflow==2.3.0) (1.27.2)\n",
      "Requirement already satisfied: google-pasta>=0.1.8 in c:\\users\\chinn\\anaconda3\\envs\\tensorflow1\\lib\\site-packages (from tensorflow==2.3.0) (0.2.0)\n",
      "Requirement already satisfied: wrapt>=1.11.1 in c:\\users\\chinn\\anaconda3\\envs\\tensorflow1\\lib\\site-packages (from tensorflow==2.3.0) (1.12.1)\n",
      "Requirement already satisfied: numpy<1.19.0,>=1.16.0 in c:\\users\\chinn\\anaconda3\\envs\\tensorflow1\\lib\\site-packages (from tensorflow==2.3.0) (1.18.2)\n",
      "Requirement already satisfied: tensorboard<3,>=2.3.0 in c:\\users\\chinn\\anaconda3\\envs\\tensorflow1\\lib\\site-packages (from tensorflow==2.3.0) (2.7.0)\n",
      "Requirement already satisfied: keras-preprocessing<1.2,>=1.1.1 in c:\\users\\chinn\\anaconda3\\envs\\tensorflow1\\lib\\site-packages (from tensorflow==2.3.0) (1.1.2)\n",
      "Requirement already satisfied: protobuf>=3.9.2 in c:\\users\\chinn\\anaconda3\\envs\\tensorflow1\\lib\\site-packages (from tensorflow==2.3.0) (3.11.4)\n",
      "Requirement already satisfied: werkzeug>=0.11.15 in c:\\users\\chinn\\anaconda3\\envs\\tensorflow1\\lib\\site-packages (from tensorboard<3,>=2.3.0->tensorflow==2.3.0) (1.0.0)\n",
      "Requirement already satisfied: requests<3,>=2.21.0 in c:\\users\\chinn\\appdata\\roaming\\python\\python37\\site-packages (from tensorboard<3,>=2.3.0->tensorflow==2.3.0) (2.25.1)\n",
      "Requirement already satisfied: google-auth-oauthlib<0.5,>=0.4.1 in c:\\users\\chinn\\anaconda3\\envs\\tensorflow1\\lib\\site-packages (from tensorboard<3,>=2.3.0->tensorflow==2.3.0) (0.4.1)\n",
      "Requirement already satisfied: tensorboard-data-server<0.7.0,>=0.6.0 in c:\\users\\chinn\\anaconda3\\envs\\tensorflow1\\lib\\site-packages (from tensorboard<3,>=2.3.0->tensorflow==2.3.0) (0.6.1)\n",
      "Requirement already satisfied: setuptools>=41.0.0 in c:\\users\\chinn\\anaconda3\\envs\\tensorflow1\\lib\\site-packages (from tensorboard<3,>=2.3.0->tensorflow==2.3.0) (46.1.1)\n",
      "Requirement already satisfied: tensorboard-plugin-wit>=1.6.0 in c:\\users\\chinn\\anaconda3\\envs\\tensorflow1\\lib\\site-packages (from tensorboard<3,>=2.3.0->tensorflow==2.3.0) (1.8.0)\n",
      "Requirement already satisfied: markdown>=2.6.8 in c:\\users\\chinn\\anaconda3\\envs\\tensorflow1\\lib\\site-packages (from tensorboard<3,>=2.3.0->tensorflow==2.3.0) (3.2.1)\n",
      "Requirement already satisfied: google-auth<3,>=1.6.3 in c:\\users\\chinn\\anaconda3\\envs\\tensorflow1\\lib\\site-packages (from tensorboard<3,>=2.3.0->tensorflow==2.3.0) (1.11.3)\n",
      "Requirement already satisfied: urllib3<1.27,>=1.21.1 in c:\\users\\chinn\\appdata\\roaming\\python\\python37\\site-packages (from requests<3,>=2.21.0->tensorboard<3,>=2.3.0->tensorflow==2.3.0) (1.25.11)\n",
      "Requirement already satisfied: chardet<5,>=3.0.2 in c:\\users\\chinn\\appdata\\roaming\\python\\python37\\site-packages (from requests<3,>=2.21.0->tensorboard<3,>=2.3.0->tensorflow==2.3.0) (4.0.0)\n",
      "Requirement already satisfied: certifi>=2017.4.17 in c:\\users\\chinn\\appdata\\roaming\\python\\python37\\site-packages (from requests<3,>=2.21.0->tensorboard<3,>=2.3.0->tensorflow==2.3.0) (2020.12.5)\n",
      "Requirement already satisfied: idna<3,>=2.5 in c:\\users\\chinn\\appdata\\roaming\\python\\python37\\site-packages (from requests<3,>=2.21.0->tensorboard<3,>=2.3.0->tensorflow==2.3.0) (2.10)\n",
      "Requirement already satisfied: requests-oauthlib>=0.7.0 in c:\\users\\chinn\\anaconda3\\envs\\tensorflow1\\lib\\site-packages (from google-auth-oauthlib<0.5,>=0.4.1->tensorboard<3,>=2.3.0->tensorflow==2.3.0) (1.3.0)\n",
      "Requirement already satisfied: rsa<4.1,>=3.1.4 in c:\\users\\chinn\\anaconda3\\envs\\tensorflow1\\lib\\site-packages (from google-auth<3,>=1.6.3->tensorboard<3,>=2.3.0->tensorflow==2.3.0) (4.0)\n",
      "Requirement already satisfied: cachetools<5.0,>=2.0.0 in c:\\users\\chinn\\anaconda3\\envs\\tensorflow1\\lib\\site-packages (from google-auth<3,>=1.6.3->tensorboard<3,>=2.3.0->tensorflow==2.3.0) (4.0.0)\n",
      "Requirement already satisfied: pyasn1-modules>=0.2.1 in c:\\users\\chinn\\anaconda3\\envs\\tensorflow1\\lib\\site-packages (from google-auth<3,>=1.6.3->tensorboard<3,>=2.3.0->tensorflow==2.3.0) (0.2.8)\n",
      "Requirement already satisfied: oauthlib>=3.0.0 in c:\\users\\chinn\\anaconda3\\envs\\tensorflow1\\lib\\site-packages (from requests-oauthlib>=0.7.0->google-auth-oauthlib<0.5,>=0.4.1->tensorboard<3,>=2.3.0->tensorflow==2.3.0) (3.1.0)\n",
      "Requirement already satisfied: pyasn1>=0.1.3 in c:\\users\\chinn\\anaconda3\\envs\\tensorflow1\\lib\\site-packages (from rsa<4.1,>=3.1.4->google-auth<3,>=1.6.3->tensorboard<3,>=2.3.0->tensorflow==2.3.0) (0.4.8)\n",
      "Installing collected packages: gast, tensorflow-estimator, tensorflow\n",
      "  Attempting uninstall: gast\n",
      "    Found existing installation: gast 0.2.2\n",
      "    Uninstalling gast-0.2.2:\n",
      "      Successfully uninstalled gast-0.2.2\n",
      "  Attempting uninstall: tensorflow-estimator\n",
      "    Found existing installation: tensorflow-estimator 2.7.0\n",
      "    Uninstalling tensorflow-estimator-2.7.0:\n",
      "      Successfully uninstalled tensorflow-estimator-2.7.0\n",
      "  Attempting uninstall: tensorflow\n",
      "    Found existing installation: tensorflow 2.7.0\n",
      "    Uninstalling tensorflow-2.7.0:\n"
     ]
    }
   ],
   "source": [
    "\n",
    "import numpy as np\n",
    "from tensorflow.keras.models import Sequential\n",
    "from tensorflow.keras.layers import Dense, Flatten\n",
    "from tensorflow.keras.optimizers import Adam"
   ]
  },
  {
   "cell_type": "code",
   "execution_count": 8,
   "metadata": {},
   "outputs": [],
   "source": [
    "states = env.observation_space.shape\n",
    "actions = env.action_space.n"
   ]
  },
  {
   "cell_type": "code",
   "execution_count": 9,
   "metadata": {},
   "outputs": [],
   "source": [
    "def build_model(states, actions):\n",
    "    model = Sequential()\n",
    "    model.add(Dense(24, activation='relu',input_shape=states))    \n",
    "    model.add(Dense(24, activation='relu'))\n",
    "    model.add(Dense(actions, activation='linear'))\n",
    "    return model"
   ]
  },
  {
   "cell_type": "code",
   "execution_count": 16,
   "metadata": {},
   "outputs": [],
   "source": [
    "del model"
   ]
  },
  {
   "cell_type": "code",
   "execution_count": 17,
   "metadata": {},
   "outputs": [],
   "source": [
    "model = build_model(states, actions)"
   ]
  },
  {
   "cell_type": "code",
   "execution_count": 18,
   "metadata": {},
   "outputs": [
    {
     "name": "stdout",
     "output_type": "stream",
     "text": [
      "Model: \"sequential_1\"\n",
      "_________________________________________________________________\n",
      " Layer (type)                Output Shape              Param #   \n",
      "=================================================================\n",
      " dense_3 (Dense)             (None, 24)                48        \n",
      "                                                                 \n",
      " dense_4 (Dense)             (None, 24)                600       \n",
      "                                                                 \n",
      " dense_5 (Dense)             (None, 3)                 75        \n",
      "                                                                 \n",
      "=================================================================\n",
      "Total params: 723\n",
      "Trainable params: 723\n",
      "Non-trainable params: 0\n",
      "_________________________________________________________________\n"
     ]
    }
   ],
   "source": [
    "model.output_shape\n",
    "model.summary()"
   ]
  },
  {
   "cell_type": "code",
   "execution_count": 13,
   "metadata": {},
   "outputs": [],
   "source": [
    "from rl.agents import DQNAgent\n",
    "from rl.policy import BoltzmannQPolicy\n",
    "from rl.memory import SequentialMemory"
   ]
  },
  {
   "cell_type": "code",
   "execution_count": 19,
   "metadata": {},
   "outputs": [],
   "source": [
    "def build_agent(model, actions):\n",
    "    policy = BoltzmannQPolicy()\n",
    "    memory = SequentialMemory(limit=50000, window_length=1)\n",
    "    dqn = DQNAgent(model=model, memory=memory, policy=policy, \n",
    "                  nb_actions=actions, nb_steps_warmup=10, target_model_update=1e-2)\n",
    "    return dqn"
   ]
  },
  {
   "cell_type": "code",
   "execution_count": 20,
   "metadata": {},
   "outputs": [
    {
     "name": "stdout",
     "output_type": "stream",
     "text": [
      "Training for 5000 steps ...\n",
      "Interval 1 (0 steps performed)\n",
      " 5000/10000 [==============>...............] - ETA: 30s - reward: -0.0033- ETA: 30s - reward: done, took 30.107 seconds\n"
     ]
    },
    {
     "data": {
      "text/plain": [
       "<keras.callbacks.History at 0x131aec82388>"
      ]
     },
     "execution_count": 20,
     "metadata": {},
     "output_type": "execute_result"
    }
   ],
   "source": [
    "dqn = build_agent(model, actions)\n",
    "dqn.compile(Adam(lr=1e-3), metrics=['mae'])\n",
    "dqn.fit(env, nb_steps=5000, visualize=False, verbose=1)"
   ]
  },
  {
   "cell_type": "code",
   "execution_count": null,
   "metadata": {},
   "outputs": [
    {
     "name": "stdout",
     "output_type": "stream",
     "text": [
      "Testing for 100 episodes ...\n",
      "Episode 1: reward: -0.300, steps: 11\n",
      "Episode 2: reward: -0.300, steps: 11\n",
      "Episode 3: reward: -0.300, steps: 11\n",
      "Episode 4: reward: -0.300, steps: 11\n",
      "Episode 5: reward: -0.300, steps: 11\n",
      "Episode 6: reward: -0.300, steps: 11\n",
      "Episode 7: reward: -0.300, steps: 11\n",
      "Episode 8: reward: -0.300, steps: 11\n",
      "Episode 9: reward: -0.300, steps: 11\n",
      "Episode 10: reward: -0.300, steps: 11\n",
      "Episode 11: reward: -0.300, steps: 11\n",
      "Episode 12: reward: -0.300, steps: 11\n",
      "Episode 13: reward: -0.300, steps: 11\n",
      "Episode 14: reward: -0.300, steps: 11\n",
      "Episode 15: reward: -0.300, steps: 11\n",
      "Episode 16: reward: -0.300, steps: 11\n",
      "Episode 17: reward: -0.300, steps: 11\n",
      "Episode 18: reward: -0.300, steps: 11\n",
      "Episode 19: reward: -0.300, steps: 11\n",
      "Episode 20: reward: -0.300, steps: 11\n",
      "Episode 21: reward: -0.300, steps: 11\n",
      "Episode 22: reward: -0.300, steps: 11\n",
      "Episode 23: reward: -0.300, steps: 11\n",
      "Episode 24: reward: -0.300, steps: 11\n",
      "Episode 25: reward: -0.300, steps: 11\n",
      "Episode 26: reward: -0.300, steps: 11\n",
      "Episode 27: reward: -0.300, steps: 11\n",
      "Episode 28: reward: -0.300, steps: 11\n",
      "Episode 29: reward: -0.300, steps: 11\n",
      "Episode 30: reward: -0.300, steps: 11\n",
      "Episode 31: reward: -0.300, steps: 11\n",
      "Episode 32: reward: -0.300, steps: 11\n",
      "Episode 33: reward: -0.300, steps: 11\n",
      "Episode 34: reward: -0.300, steps: 11\n",
      "Episode 35: reward: -0.300, steps: 11\n",
      "Episode 36: reward: -0.300, steps: 11\n",
      "Episode 37: reward: -0.300, steps: 11\n",
      "Episode 38: reward: -0.300, steps: 11\n",
      "Episode 39: reward: -0.300, steps: 11\n",
      "Episode 40: reward: -0.300, steps: 11\n",
      "Episode 41: reward: -0.300, steps: 11\n",
      "Episode 42: reward: -0.300, steps: 11\n",
      "Episode 43: reward: -0.300, steps: 11\n",
      "Episode 44: reward: -0.300, steps: 11\n",
      "Episode 45: reward: -0.300, steps: 11\n",
      "Episode 46: reward: -0.300, steps: 11\n",
      "Episode 47: reward: -0.300, steps: 11\n",
      "Episode 48: reward: -0.300, steps: 11\n",
      "Episode 49: reward: -0.300, steps: 11\n",
      "Episode 50: reward: -0.300, steps: 11\n",
      "Episode 51: reward: -0.300, steps: 11\n",
      "Episode 52: reward: -0.300, steps: 11\n",
      "Episode 53: reward: -0.300, steps: 11\n",
      "Episode 54: reward: -0.300, steps: 11\n",
      "Episode 55: reward: -0.300, steps: 11\n",
      "Episode 56: reward: -0.300, steps: 11\n",
      "Episode 57: reward: -0.300, steps: 11\n",
      "Episode 58: reward: -0.300, steps: 11\n",
      "Episode 59: reward: -0.300, steps: 11\n",
      "Episode 60: reward: -0.300, steps: 11\n",
      "Episode 61: reward: -0.300, steps: 11\n",
      "Episode 62: reward: -0.300, steps: 11\n",
      "Episode 63: reward: -0.300, steps: 11\n",
      "Episode 64: reward: -0.300, steps: 11\n",
      "Episode 65: reward: -0.300, steps: 11\n",
      "Episode 66: reward: -0.300, steps: 11\n",
      "Episode 67: reward: -0.300, steps: 11\n",
      "Episode 68: reward: -0.300, steps: 11\n",
      "Episode 69: reward: -0.300, steps: 11\n",
      "Episode 70: reward: -0.300, steps: 11\n",
      "Episode 71: reward: -0.300, steps: 11\n",
      "Episode 72: reward: -0.300, steps: 11\n",
      "Episode 73: reward: -0.300, steps: 11\n",
      "Episode 74: reward: -0.300, steps: 11\n",
      "Episode 75: reward: -0.300, steps: 11\n",
      "Episode 76: reward: -0.300, steps: 11\n",
      "Episode 77: reward: -0.300, steps: 11\n",
      "Episode 78: reward: -0.300, steps: 11\n",
      "Episode 79: reward: -0.300, steps: 11\n",
      "Episode 80: reward: -0.300, steps: 11\n",
      "Episode 81: reward: -0.300, steps: 11\n",
      "Episode 82: reward: -0.300, steps: 11\n",
      "Episode 83: reward: -0.300, steps: 11\n",
      "Episode 84: reward: -0.300, steps: 11\n",
      "Episode 85: reward: -0.300, steps: 11\n",
      "Episode 86: reward: -0.300, steps: 11\n",
      "Episode 87: reward: -0.300, steps: 11\n",
      "Episode 88: reward: -0.300, steps: 11\n",
      "Episode 89: reward: -0.300, steps: 11\n",
      "Episode 90: reward: -0.300, steps: 11\n",
      "Episode 91: reward: -0.300, steps: 11\n",
      "Episode 92: reward: -0.300, steps: 11\n",
      "Episode 93: reward: -0.300, steps: 11\n",
      "Episode 94: reward: -0.300, steps: 11\n",
      "Episode 95: reward: -0.300, steps: 11\n",
      "Episode 96: reward: -0.300, steps: 11\n",
      "Episode 97: reward: -0.300, steps: 11\n",
      "Episode 98: reward: -0.300, steps: 11\n",
      "Episode 99: reward: -0.300, steps: 11\n",
      "Episode 100: reward: -0.300, steps: 11\n",
      "-0.3\n"
     ]
    }
   ],
   "source": [
    "scores = dqn.test(env, nb_episodes=100, visualize=False)\n",
    "print(np.mean(scores.history['episode_reward']))"
   ]
  },
  {
   "cell_type": "code",
   "execution_count": null,
   "metadata": {},
   "outputs": [
    {
     "name": "stdout",
     "output_type": "stream",
     "text": [
      "Testing for 15 episodes ...\n",
      "Episode 1: reward: -0.300, steps: 11\n",
      "Episode 2: reward: -0.300, steps: 11\n",
      "Episode 3: reward: -0.300, steps: 11\n",
      "Episode 4: reward: -0.300, steps: 11\n",
      "Episode 5: reward: -0.300, steps: 11\n",
      "Episode 6: reward: -0.300, steps: 11\n",
      "Episode 7: reward: -0.300, steps: 11\n",
      "Episode 8: reward: -0.300, steps: 11\n",
      "Episode 9: reward: -0.300, steps: 11\n",
      "Episode 10: reward: -0.300, steps: 11\n",
      "Episode 11: reward: -0.300, steps: 11\n",
      "Episode 12: reward: -0.300, steps: 11\n",
      "Episode 13: reward: -0.300, steps: 11\n",
      "Episode 14: reward: -0.300, steps: 11\n",
      "Episode 15: reward: -0.300, steps: 11\n"
     ]
    }
   ],
   "source": [
    "_ = dqn.test(env, nb_episodes=15, visualize=False)"
   ]
  },
  {
   "cell_type": "code",
   "execution_count": null,
   "metadata": {},
   "outputs": [],
   "source": []
  }
 ],
 "metadata": {
  "interpreter": {
   "hash": "57a12d5d0f2c27f5e108d61e45fc47586c5fd7eee3b991a18371214f6e881da0"
  },
  "kernelspec": {
   "display_name": "Python 3.7.6 64-bit ('tensorflow1': conda)",
   "language": "python",
   "name": "python3"
  },
  "language_info": {
   "codemirror_mode": {
    "name": "ipython",
    "version": 3
   },
   "file_extension": ".py",
   "mimetype": "text/x-python",
   "name": "python",
   "nbconvert_exporter": "python",
   "pygments_lexer": "ipython3",
   "version": "3.7.6"
  },
  "orig_nbformat": 4
 },
 "nbformat": 4,
 "nbformat_minor": 2
}
